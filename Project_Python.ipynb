{
 "cells": [
  {
   "cell_type": "code",
   "execution_count": 1,
   "metadata": {},
   "outputs": [
    {
     "data": {
      "text/plain": [
       "{1: 'Абросимов',\n",
       " 2: 'Битюцкий',\n",
       " 3: 'Гончаренко',\n",
       " 4: 'Иванова',\n",
       " 5: 'Казьмина',\n",
       " 6: 'Калашников',\n",
       " 7: 'Кардаш',\n",
       " 8: 'Китов',\n",
       " 9: 'Кобец',\n",
       " 10: 'Коваленко',\n",
       " 11: 'Мандриков А',\n",
       " 12: 'Мандриков И',\n",
       " 13: 'Охременко',\n",
       " 14: 'Саенко',\n",
       " 15: 'Скляр',\n",
       " 16: 'Слепцов',\n",
       " 17: 'Степченко',\n",
       " 18: 'Украинец',\n",
       " 19: 'Фадеева',\n",
       " 20: 'Хвалюк',\n",
       " 21: 'Чавырь',\n",
       " 22: 'Юрченко'}"
      ]
     },
     "execution_count": 1,
     "metadata": {},
     "output_type": "execute_result"
    }
   ],
   "source": [
    "# Создание 5 словарей фамилий и заполнение их через цикл\n",
    "dictStudents = {}\n",
    "keys = range(22)\n",
    "values = [\"Абросимов\", \"Битюцкий\", \"Гончаренко\", \"Иванова\", 'Казьмина', 'Калашников', 'Кардаш', 'Китов', 'Кобец', 'Коваленко',\n",
    "          'Мандриков А', 'Мандриков И', 'Охременко','Саенко', 'Скляр', 'Слепцов', 'Степченко', 'Украинец', 'Фадеева', 'Хвалюк', 'Чавырь', 'Юрченко']\n",
    "for i in keys:\n",
    "        dictStudents[i+1] = values[i]\n",
    "dictStudents"
   ]
  },
  {
   "cell_type": "code",
   "execution_count": 2,
   "metadata": {},
   "outputs": [],
   "source": [
    "dictStudents2 = {}\n",
    "keys = range(10)\n",
    "values = [\"Попов\", \"Смирнов\", \"Пяточкина\", \"Иванов\", 'Стрельцова', 'Калашниковский', 'Соболев', 'Усикова', 'Яныкин', 'Бобрыкин']\n",
    "for i in keys:\n",
    "        dictStudents2[i+1] = values[i]\n",
    "        \n",
    "dictStudents3 = {}\n",
    "keys = range(10)\n",
    "values = [\"Уточкин\", \"Бабкин\", \"Смирнова\", \"Васечкина\", '', 'Кидала', 'Чурш', 'Усова', 'Щаль', 'Лось']\n",
    "for i in keys:\n",
    "        dictStudents3[i+1] = values[i]\n",
    "        \n",
    "dictStudents4 = {}\n",
    "keys = range(10)\n",
    "values = [\"Гордиенко\", \"Плетнёв\", \"Титаренко\", \"Матушанская\", 'Заворуева', 'Войнов', 'Лиманский', 'Полищук', 'Копитько', 'Шенгер']\n",
    "for i in keys:\n",
    "        dictStudents4[i+1] = values[i]\n",
    "\n",
    "dictStudents5 = {}\n",
    "keys = range(10)\n",
    "values = [\"Деревянченко\", \"Шевченко\", \"Кот\", \"Скорцов\", 'Пестрыкин', 'Лягушов', 'Кирилко', 'Щербакова', 'Жовтобрюх', 'Алексеев']\n",
    "for i in keys:\n",
    "        dictStudents5[i+1] = values[i]"
   ]
  },
  {
   "cell_type": "code",
   "execution_count": 3,
   "metadata": {},
   "outputs": [],
   "source": [
    "import random # для выбора рандомных значений\n",
    "import pprint # позволяет красиво и понятно отображать вложенные словари\n",
    "import pandas as pd #для пересечения и поиска наибольшего значения"
   ]
  },
  {
   "cell_type": "code",
   "execution_count": 4,
   "metadata": {},
   "outputs": [],
   "source": [
    "# Так как словарь для количества групп на один ключ содержит список из многих учеников, то\n",
    "#каждому ключу соответствует свой список\n",
    "dictGroups = dict()\n",
    "if 1 not in dictGroups:\n",
    "   dictGroups[1] = list()\n",
    "\n",
    "if 2 not in dictGroups:\n",
    "    dictGroups[2] = list()\n",
    "    \n",
    "if 3 not in dictGroups:\n",
    "    dictGroups[3] = list()\n",
    "    \n",
    "if 4 not in dictGroups:\n",
    "    dictGroups[4] = list()\n",
    "    \n",
    "if 5 not in dictGroups:\n",
    "    dictGroups[5] = list()\n",
    "    \n",
    "dictGroups[1].extend([i for i in range(1, 23)])\n",
    "dictGroups[2].extend([i for i in range(1, 23)])\n",
    "dictGroups[3].extend([i for i in range(1, 23)])\n",
    "dictGroups[4].extend([i for i in range(1, 23)])\n",
    "dictGroups[5].extend([i for i in range(1, 23)])"
   ]
  },
  {
   "cell_type": "code",
   "execution_count": 5,
   "metadata": {},
   "outputs": [
    {
     "data": {
      "text/plain": [
       "[1, 2, 3, 4, 5]"
      ]
     },
     "execution_count": 5,
     "metadata": {},
     "output_type": "execute_result"
    }
   ],
   "source": [
    "# Чтобы была возможность выбрать любую группу, создаю список из ключей\n",
    "List_Keys = list(dictGroups.keys())\n",
    "List_Keys"
   ]
  },
  {
   "cell_type": "code",
   "execution_count": 6,
   "metadata": {},
   "outputs": [
    {
     "data": {
      "text/plain": [
       "2"
      ]
     },
     "execution_count": 6,
     "metadata": {},
     "output_type": "execute_result"
    }
   ],
   "source": [
    "randomGroup = random.choice(List_Keys)\n",
    "randomGroup"
   ]
  },
  {
   "cell_type": "code",
   "execution_count": 7,
   "metadata": {},
   "outputs": [
    {
     "data": {
      "text/plain": [
       "{1: 'Абросимов',\n",
       " 2: 'Битюцкий',\n",
       " 3: 'Гончаренко',\n",
       " 4: 'Иванова',\n",
       " 5: 'Казьмина',\n",
       " 6: 'Калашников',\n",
       " 7: 'Кардаш',\n",
       " 8: 'Китов',\n",
       " 9: 'Кобец',\n",
       " 10: 'Коваленко',\n",
       " 11: 'Мандриков А',\n",
       " 12: 'Мандриков И',\n",
       " 13: 'Охременко',\n",
       " 14: 'Саенко',\n",
       " 15: 'Скляр',\n",
       " 16: 'Слепцов',\n",
       " 17: 'Степченко',\n",
       " 18: 'Украинец',\n",
       " 19: 'Фадеева',\n",
       " 20: 'Хвалюк',\n",
       " 21: 'Чавырь',\n",
       " 22: 'Юрченко'}"
      ]
     },
     "execution_count": 7,
     "metadata": {},
     "output_type": "execute_result"
    }
   ],
   "source": [
    "# Из списка всех фамилий, случайно выбираю любой из словарей и записываю его в новый\n",
    "ListrandomNames = list([dictStudents, dictStudents2, dictStudents3, dictStudents4, dictStudents5])\n",
    "randomDictNames = {}\n",
    "randomDictNames = random.choice(ListrandomNames)\n",
    "randomDictNames"
   ]
  },
  {
   "cell_type": "code",
   "execution_count": 8,
   "metadata": {},
   "outputs": [
    {
     "data": {
      "text/plain": [
       "{2: [1,\n",
       "  2,\n",
       "  3,\n",
       "  4,\n",
       "  5,\n",
       "  6,\n",
       "  7,\n",
       "  8,\n",
       "  9,\n",
       "  10,\n",
       "  11,\n",
       "  12,\n",
       "  13,\n",
       "  14,\n",
       "  15,\n",
       "  16,\n",
       "  17,\n",
       "  18,\n",
       "  19,\n",
       "  20,\n",
       "  21,\n",
       "  22]}"
      ]
     },
     "execution_count": 8,
     "metadata": {},
     "output_type": "execute_result"
    }
   ],
   "source": [
    "# Достаём значения по случайно выбранному номеру группы\n",
    "randomValuesOfGroup = dictGroups[randomGroup]\n",
    "randomDict = {randomGroup:randomValuesOfGroup}\n",
    "randomDict"
   ]
  },
  {
   "cell_type": "code",
   "execution_count": 9,
   "metadata": {},
   "outputs": [],
   "source": [
    "# Для удобства пересечения словари записывает в ДатаФреймы\n",
    "frameIndex_groups = pd.DataFrame(data = {'num_stud': list(randomDict.values())[0] })\n",
    "frameIndex_names = pd.DataFrame(data = {'num_stud':list(randomDictNames.keys()),'Name':list(randomDictNames.values())})"
   ]
  },
  {
   "cell_type": "code",
   "execution_count": 10,
   "metadata": {},
   "outputs": [
    {
     "data": {
      "text/html": [
       "<div>\n",
       "<style scoped>\n",
       "    .dataframe tbody tr th:only-of-type {\n",
       "        vertical-align: middle;\n",
       "    }\n",
       "\n",
       "    .dataframe tbody tr th {\n",
       "        vertical-align: top;\n",
       "    }\n",
       "\n",
       "    .dataframe thead th {\n",
       "        text-align: right;\n",
       "    }\n",
       "</style>\n",
       "<table border=\"1\" class=\"dataframe\">\n",
       "  <thead>\n",
       "    <tr style=\"text-align: right;\">\n",
       "      <th></th>\n",
       "      <th>num_stud</th>\n",
       "      <th>Name</th>\n",
       "    </tr>\n",
       "  </thead>\n",
       "  <tbody>\n",
       "    <tr>\n",
       "      <th>0</th>\n",
       "      <td>1</td>\n",
       "      <td>Абросимов</td>\n",
       "    </tr>\n",
       "    <tr>\n",
       "      <th>1</th>\n",
       "      <td>2</td>\n",
       "      <td>Битюцкий</td>\n",
       "    </tr>\n",
       "    <tr>\n",
       "      <th>2</th>\n",
       "      <td>3</td>\n",
       "      <td>Гончаренко</td>\n",
       "    </tr>\n",
       "    <tr>\n",
       "      <th>3</th>\n",
       "      <td>4</td>\n",
       "      <td>Иванова</td>\n",
       "    </tr>\n",
       "    <tr>\n",
       "      <th>4</th>\n",
       "      <td>5</td>\n",
       "      <td>Казьмина</td>\n",
       "    </tr>\n",
       "    <tr>\n",
       "      <th>5</th>\n",
       "      <td>6</td>\n",
       "      <td>Калашников</td>\n",
       "    </tr>\n",
       "    <tr>\n",
       "      <th>6</th>\n",
       "      <td>7</td>\n",
       "      <td>Кардаш</td>\n",
       "    </tr>\n",
       "    <tr>\n",
       "      <th>7</th>\n",
       "      <td>8</td>\n",
       "      <td>Китов</td>\n",
       "    </tr>\n",
       "    <tr>\n",
       "      <th>8</th>\n",
       "      <td>9</td>\n",
       "      <td>Кобец</td>\n",
       "    </tr>\n",
       "    <tr>\n",
       "      <th>9</th>\n",
       "      <td>10</td>\n",
       "      <td>Коваленко</td>\n",
       "    </tr>\n",
       "    <tr>\n",
       "      <th>10</th>\n",
       "      <td>11</td>\n",
       "      <td>Мандриков А</td>\n",
       "    </tr>\n",
       "    <tr>\n",
       "      <th>11</th>\n",
       "      <td>12</td>\n",
       "      <td>Мандриков И</td>\n",
       "    </tr>\n",
       "    <tr>\n",
       "      <th>12</th>\n",
       "      <td>13</td>\n",
       "      <td>Охременко</td>\n",
       "    </tr>\n",
       "    <tr>\n",
       "      <th>13</th>\n",
       "      <td>14</td>\n",
       "      <td>Саенко</td>\n",
       "    </tr>\n",
       "    <tr>\n",
       "      <th>14</th>\n",
       "      <td>15</td>\n",
       "      <td>Скляр</td>\n",
       "    </tr>\n",
       "    <tr>\n",
       "      <th>15</th>\n",
       "      <td>16</td>\n",
       "      <td>Слепцов</td>\n",
       "    </tr>\n",
       "    <tr>\n",
       "      <th>16</th>\n",
       "      <td>17</td>\n",
       "      <td>Степченко</td>\n",
       "    </tr>\n",
       "    <tr>\n",
       "      <th>17</th>\n",
       "      <td>18</td>\n",
       "      <td>Украинец</td>\n",
       "    </tr>\n",
       "    <tr>\n",
       "      <th>18</th>\n",
       "      <td>19</td>\n",
       "      <td>Фадеева</td>\n",
       "    </tr>\n",
       "    <tr>\n",
       "      <th>19</th>\n",
       "      <td>20</td>\n",
       "      <td>Хвалюк</td>\n",
       "    </tr>\n",
       "    <tr>\n",
       "      <th>20</th>\n",
       "      <td>21</td>\n",
       "      <td>Чавырь</td>\n",
       "    </tr>\n",
       "    <tr>\n",
       "      <th>21</th>\n",
       "      <td>22</td>\n",
       "      <td>Юрченко</td>\n",
       "    </tr>\n",
       "  </tbody>\n",
       "</table>\n",
       "</div>"
      ],
      "text/plain": [
       "    num_stud         Name\n",
       "0          1    Абросимов\n",
       "1          2     Битюцкий\n",
       "2          3   Гончаренко\n",
       "3          4      Иванова\n",
       "4          5     Казьмина\n",
       "5          6   Калашников\n",
       "6          7       Кардаш\n",
       "7          8        Китов\n",
       "8          9        Кобец\n",
       "9         10    Коваленко\n",
       "10        11  Мандриков А\n",
       "11        12  Мандриков И\n",
       "12        13    Охременко\n",
       "13        14       Саенко\n",
       "14        15        Скляр\n",
       "15        16      Слепцов\n",
       "16        17    Степченко\n",
       "17        18     Украинец\n",
       "18        19      Фадеева\n",
       "19        20       Хвалюк\n",
       "20        21       Чавырь\n",
       "21        22      Юрченко"
      ]
     },
     "execution_count": 10,
     "metadata": {},
     "output_type": "execute_result"
    }
   ],
   "source": [
    "# С помощью множеств и операции пересечения над множеством получаю случайный список студентов случайной группы\n",
    "randomlistofStudents = frameIndex_names[frameIndex_names.num_stud.isin(list(set(frameIndex_groups.num_stud) & set(frameIndex_names.num_stud)))]\n",
    "randomlistofStudents"
   ]
  },
  {
   "cell_type": "code",
   "execution_count": 27,
   "metadata": {},
   "outputs": [
    {
     "name": "stdout",
     "output_type": "stream",
     "text": [
      "{1: {'mark': 2, 'num_gr': 1, 'num_stud': 1},\n",
      " 2: {'mark': 2, 'num_gr': 1, 'num_stud': 2},\n",
      " 3: {'mark': 2, 'num_gr': 1, 'num_stud': 3},\n",
      " 4: {'mark': 3, 'num_gr': 1, 'num_stud': 4},\n",
      " 5: {'mark': 1, 'num_gr': 1, 'num_stud': 5},\n",
      " 6: {'mark': 4, 'num_gr': 1, 'num_stud': 6},\n",
      " 7: {'mark': 2, 'num_gr': 1, 'num_stud': 7},\n",
      " 8: {'mark': 3, 'num_gr': 1, 'num_stud': 8},\n",
      " 9: {'mark': 1, 'num_gr': 1, 'num_stud': 9},\n",
      " 10: {'mark': 2, 'num_gr': 1, 'num_stud': 10},\n",
      " 11: {'mark': 5, 'num_gr': 1, 'num_stud': 11},\n",
      " 12: {'mark': 5, 'num_gr': 1, 'num_stud': 12},\n",
      " 13: {'mark': 3, 'num_gr': 1, 'num_stud': 13},\n",
      " 14: {'mark': 1, 'num_gr': 1, 'num_stud': 14},\n",
      " 15: {'mark': 2, 'num_gr': 1, 'num_stud': 15},\n",
      " 16: {'mark': 3, 'num_gr': 1, 'num_stud': 16},\n",
      " 17: {'mark': 3, 'num_gr': 1, 'num_stud': 17},\n",
      " 18: {'mark': 3, 'num_gr': 1, 'num_stud': 18},\n",
      " 19: {'mark': 2, 'num_gr': 1, 'num_stud': 19},\n",
      " 20: {'mark': 5, 'num_gr': 1, 'num_stud': 20},\n",
      " 21: {'mark': 2, 'num_gr': 1, 'num_stud': 21},\n",
      " 22: {'mark': 1, 'num_gr': 1, 'num_stud': 22}}\n"
     ]
    }
   ],
   "source": [
    "# Приступаем к созданию новых словарей - словарей с оценками, которые являются вложенными. Также сразу создаём датафрейм для каждого словаря\n",
    "key = 1\n",
    "dict_Marks = dict()\n",
    "for i, j in zip(range(1,23),range(1,23)): # два рэнджа как одно целое и проходимся за один цикл\n",
    "    deep = dict( {'num_gr': key, 'num_stud': j, 'mark': random.randint(1,5)} ) #так как словарь вложенный, то создаём \n",
    "    #сначала словарь самый глубокий, а потом к каждому приписываем ключ\n",
    "    dict_Marks[i] = deep\n",
    "pprint.pprint(dict_Marks)\n",
    "\n",
    "frame_dict_Marks = pd.DataFrame.from_dict(dict_Marks, orient = 'index')"
   ]
  },
  {
   "cell_type": "code",
   "execution_count": 28,
   "metadata": {},
   "outputs": [
    {
     "name": "stdout",
     "output_type": "stream",
     "text": [
      "{1: {'mark': 1, 'num_gr': 2, 'num_stud': 1},\n",
      " 2: {'mark': 5, 'num_gr': 2, 'num_stud': 2},\n",
      " 3: {'mark': 4, 'num_gr': 2, 'num_stud': 3},\n",
      " 4: {'mark': 4, 'num_gr': 2, 'num_stud': 4},\n",
      " 5: {'mark': 5, 'num_gr': 2, 'num_stud': 5},\n",
      " 6: {'mark': 3, 'num_gr': 2, 'num_stud': 6},\n",
      " 7: {'mark': 4, 'num_gr': 2, 'num_stud': 7},\n",
      " 8: {'mark': 2, 'num_gr': 2, 'num_stud': 8},\n",
      " 9: {'mark': 4, 'num_gr': 2, 'num_stud': 9},\n",
      " 10: {'mark': 3, 'num_gr': 2, 'num_stud': 10}}\n"
     ]
    }
   ],
   "source": [
    "key = 2\n",
    "dict_Marks2 = dict()\n",
    "for i, j in zip(range(1,11),range(1,11)): \n",
    "    deep = dict( {'num_gr': key, 'num_stud': j, 'mark': random.randint(1,5)} )\n",
    "    dict_Marks2[i] = deep\n",
    "pprint.pprint(dict_Marks2)\n",
    "frame_dict_Marks2 = pd.DataFrame.from_dict(dict_Marks2, orient = 'index')"
   ]
  },
  {
   "cell_type": "code",
   "execution_count": 29,
   "metadata": {},
   "outputs": [
    {
     "name": "stdout",
     "output_type": "stream",
     "text": [
      "{1: {'mark': 1, 'num_gr': 3, 'num_stud': 1},\n",
      " 2: {'mark': 3, 'num_gr': 3, 'num_stud': 2},\n",
      " 3: {'mark': 4, 'num_gr': 3, 'num_stud': 3},\n",
      " 4: {'mark': 3, 'num_gr': 3, 'num_stud': 4},\n",
      " 5: {'mark': 5, 'num_gr': 3, 'num_stud': 5},\n",
      " 6: {'mark': 2, 'num_gr': 3, 'num_stud': 6},\n",
      " 7: {'mark': 4, 'num_gr': 3, 'num_stud': 7},\n",
      " 8: {'mark': 3, 'num_gr': 3, 'num_stud': 8},\n",
      " 9: {'mark': 1, 'num_gr': 3, 'num_stud': 9},\n",
      " 10: {'mark': 1, 'num_gr': 3, 'num_stud': 10}}\n"
     ]
    }
   ],
   "source": [
    "key = 3\n",
    "dict_Marks3 = dict()\n",
    "for i, j in zip(range(1,11),range(1,11)): \n",
    "    deep = dict( {'num_gr': key, 'num_stud': j, 'mark': random.randint(1,5)} )\n",
    "    dict_Marks3[i] = deep\n",
    "pprint.pprint(dict_Marks3)\n",
    "frame_dict_Marks3 = pd.DataFrame.from_dict(dict_Marks3, orient = 'index')"
   ]
  },
  {
   "cell_type": "code",
   "execution_count": 30,
   "metadata": {},
   "outputs": [
    {
     "name": "stdout",
     "output_type": "stream",
     "text": [
      "{1: {'mark': 3, 'num_gr': 4, 'num_stud': 1},\n",
      " 2: {'mark': 1, 'num_gr': 4, 'num_stud': 2},\n",
      " 3: {'mark': 2, 'num_gr': 4, 'num_stud': 3},\n",
      " 4: {'mark': 3, 'num_gr': 4, 'num_stud': 4},\n",
      " 5: {'mark': 3, 'num_gr': 4, 'num_stud': 5},\n",
      " 6: {'mark': 1, 'num_gr': 4, 'num_stud': 6},\n",
      " 7: {'mark': 5, 'num_gr': 4, 'num_stud': 7},\n",
      " 8: {'mark': 5, 'num_gr': 4, 'num_stud': 8},\n",
      " 9: {'mark': 5, 'num_gr': 4, 'num_stud': 9},\n",
      " 10: {'mark': 1, 'num_gr': 4, 'num_stud': 10}}\n"
     ]
    }
   ],
   "source": [
    "key = 4\n",
    "dict_Marks4 = dict()\n",
    "for i, j in zip(range(1,11),range(1,11)): \n",
    "    deep = dict( {'num_gr': key, 'num_stud': j, 'mark': random.randint(1,5)} )\n",
    "    dict_Marks4[i] = deep\n",
    "pprint.pprint(dict_Marks4)\n",
    "frame_dict_Marks4 = pd.DataFrame.from_dict(dict_Marks4, orient = 'index')"
   ]
  },
  {
   "cell_type": "code",
   "execution_count": 31,
   "metadata": {},
   "outputs": [
    {
     "name": "stdout",
     "output_type": "stream",
     "text": [
      "{1: {'mark': 1, 'num_gr': 5, 'num_stud': 1},\n",
      " 2: {'mark': 2, 'num_gr': 5, 'num_stud': 2},\n",
      " 3: {'mark': 5, 'num_gr': 5, 'num_stud': 3},\n",
      " 4: {'mark': 2, 'num_gr': 5, 'num_stud': 4},\n",
      " 5: {'mark': 4, 'num_gr': 5, 'num_stud': 5},\n",
      " 6: {'mark': 3, 'num_gr': 5, 'num_stud': 6},\n",
      " 7: {'mark': 2, 'num_gr': 5, 'num_stud': 7},\n",
      " 8: {'mark': 3, 'num_gr': 5, 'num_stud': 8},\n",
      " 9: {'mark': 4, 'num_gr': 5, 'num_stud': 9},\n",
      " 10: {'mark': 5, 'num_gr': 5, 'num_stud': 10}}\n"
     ]
    }
   ],
   "source": [
    "key = 5\n",
    "dict_Marks5 = dict()\n",
    "for i, j in zip(range(1,11),range(1,11)):\n",
    "    deep = dict( {'num_gr': key, 'num_stud': j, 'mark': random.randint(1,5)} )\n",
    "    dict_Marks5[i] = deep\n",
    "pprint.pprint(dict_Marks5)\n",
    "frame_dict_Marks5 = pd.DataFrame.from_dict(dict_Marks5, orient = 'index')"
   ]
  },
  {
   "cell_type": "code",
   "execution_count": 35,
   "metadata": {},
   "outputs": [],
   "source": [
    "# Так как в группах есть раздичное количество учеников, то разумно было создать сразу подходящее пересечение оценок и фамилий\n",
    "#под каждую группу\n",
    "# В данном случае, мы переписываем все словари фамилий в датафреймы\n",
    "NamesFrame1 = pd.DataFrame(data = {'num_stud':list(dictStudents.keys()),'Name':list(dictStudents.values())})\n",
    "NamesFrame2 = pd.DataFrame(data = {'num_stud':list(dictStudents2.keys()),'Name':list(dictStudents2.values())})\n",
    "NamesFrame3 = pd.DataFrame(data = {'num_stud':list(dictStudents3.keys()),'Name':list(dictStudents3.values())})\n",
    "NamesFrame4 = pd.DataFrame(data = {'num_stud':list(dictStudents4.keys()),'Name':list(dictStudents4.values())})\n",
    "NamesFrame5 = pd.DataFrame(data = {'num_stud':list(dictStudents5.keys()),'Name':list(dictStudents5.values())})"
   ]
  },
  {
   "cell_type": "code",
   "execution_count": 36,
   "metadata": {},
   "outputs": [],
   "source": [
    "# И создаём пересечения по фамилиям и оценкам с помощью merge\n",
    "frame_marks_intersection1 = pd.merge(NamesFrame1, frame_dict_Marks, how='inner', on=['num_stud'])\n",
    "frame_marks_intersection2 = pd.merge(NamesFrame2, frame_dict_Marks2, how='inner', on=['num_stud'])\n",
    "frame_marks_intersection3 = pd.merge(NamesFrame3, frame_dict_Marks3, how='inner', on=['num_stud'])\n",
    "frame_marks_intersection4 = pd.merge(NamesFrame4, frame_dict_Marks4, how='inner', on=['num_stud'])\n",
    "frame_marks_intersection5 = pd.merge(NamesFrame5, frame_dict_Marks5, how='inner', on=['num_stud'])"
   ]
  },
  {
   "cell_type": "code",
   "execution_count": 37,
   "metadata": {},
   "outputs": [
    {
     "data": {
      "text/plain": [
       "10    Мандриков А\n",
       "11    Мандриков И\n",
       "19         Хвалюк\n",
       "Name: Name, dtype: object"
      ]
     },
     "execution_count": 37,
     "metadata": {},
     "output_type": "execute_result"
    }
   ],
   "source": [
    "#Находим учеников, которые получили наивысшую оценку по предмету\n",
    "highMarks1 = frame_marks_intersection1[frame_marks_intersection1['mark']==5]\n",
    "highMarks1.Name"
   ]
  },
  {
   "cell_type": "code",
   "execution_count": 38,
   "metadata": {},
   "outputs": [
    {
     "data": {
      "text/plain": [
       "1       Смирнов\n",
       "4    Стрельцова\n",
       "Name: Name, dtype: object"
      ]
     },
     "execution_count": 38,
     "metadata": {},
     "output_type": "execute_result"
    }
   ],
   "source": [
    "highMarks2 = frame_marks_intersection2[frame_marks_intersection2['mark']==5]\n",
    "highMarks2.Name"
   ]
  },
  {
   "cell_type": "code",
   "execution_count": 39,
   "metadata": {},
   "outputs": [
    {
     "data": {
      "text/plain": [
       "4    \n",
       "Name: Name, dtype: object"
      ]
     },
     "execution_count": 39,
     "metadata": {},
     "output_type": "execute_result"
    }
   ],
   "source": [
    "highMarks3 = frame_marks_intersection3[frame_marks_intersection3['mark']==5]\n",
    "highMarks3.Name"
   ]
  },
  {
   "cell_type": "code",
   "execution_count": 40,
   "metadata": {},
   "outputs": [
    {
     "data": {
      "text/plain": [
       "6    Лиманский\n",
       "7      Полищук\n",
       "8     Копитько\n",
       "Name: Name, dtype: object"
      ]
     },
     "execution_count": 40,
     "metadata": {},
     "output_type": "execute_result"
    }
   ],
   "source": [
    "highMarks4 = frame_marks_intersection4[frame_marks_intersection4['mark']==5]\n",
    "highMarks4.Name"
   ]
  },
  {
   "cell_type": "code",
   "execution_count": 41,
   "metadata": {},
   "outputs": [
    {
     "data": {
      "text/plain": [
       "2         Кот\n",
       "9    Алексеев\n",
       "Name: Name, dtype: object"
      ]
     },
     "execution_count": 41,
     "metadata": {},
     "output_type": "execute_result"
    }
   ],
   "source": [
    "highMarks5 = frame_marks_intersection5[frame_marks_intersection5['mark']==5]\n",
    "highMarks5.Name"
   ]
  },
  {
   "cell_type": "code",
   "execution_count": 42,
   "metadata": {},
   "outputs": [
    {
     "data": {
      "text/plain": [
       "[3, 2, 1, 3, 2]"
      ]
     },
     "execution_count": 42,
     "metadata": {},
     "output_type": "execute_result"
    }
   ],
   "source": [
    "# Теперь считаем количество учащихся с наивысшим баллом и записываем их в список\n",
    "count_High_Marks1= highMarks1.num_stud.count()\n",
    "count_High_Marks2= highMarks2.num_stud.count()\n",
    "count_High_Marks3= highMarks3.num_stud.count()\n",
    "count_High_Marks4= highMarks4.num_stud.count()\n",
    "count_High_Marks5= highMarks5.num_stud.count()\n",
    "lis = list()\n",
    "lis.append(count_High_Marks1)\n",
    "lis.append(count_High_Marks2)\n",
    "lis.append(count_High_Marks3)\n",
    "lis.append(count_High_Marks4)\n",
    "lis.append(count_High_Marks5)\n",
    "lis"
   ]
  },
  {
   "cell_type": "code",
   "execution_count": 44,
   "metadata": {},
   "outputs": [
    {
     "name": "stdout",
     "output_type": "stream",
     "text": [
      "[10    1\n",
      "11    1\n",
      "19    1\n",
      "Name: num_gr, dtype: int64,\n",
      " 6    4\n",
      "7    4\n",
      "8    4\n",
      "Name: num_gr, dtype: int64]\n"
     ]
    }
   ],
   "source": [
    "# Находим максимальное из списка и далее находим группу, в которой максимальное количество этих учеников\n",
    "maximum_stud = max(lis)\n",
    "bestgroup = list()\n",
    "counts = [count_High_Marks1, count_High_Marks2, count_High_Marks3, count_High_Marks4]\n",
    "groups = [highMarks1, highMarks2, highMarks3, highMarks4]\n",
    "for x in range(4):\n",
    "    if counts[x] == maximum_stud:\n",
    "        bestgroup.append(groups[x].num_gr)\n",
    "pprint.pprint(bestgroup)"
   ]
  }
 ],
 "metadata": {
  "kernelspec": {
   "display_name": "Python 3",
   "language": "python",
   "name": "python3"
  },
  "language_info": {
   "codemirror_mode": {
    "name": "ipython",
    "version": 3
   },
   "file_extension": ".py",
   "mimetype": "text/x-python",
   "name": "python",
   "nbconvert_exporter": "python",
   "pygments_lexer": "ipython3",
   "version": "3.7.3"
  }
 },
 "nbformat": 4,
 "nbformat_minor": 2
}
